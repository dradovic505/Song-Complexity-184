{
 "cells": [
  {
   "cell_type": "code",
   "execution_count": null,
   "metadata": {},
   "outputs": [],
   "source": [
    "import json\n",
    "\n",
    "with open('all_lyrics_cleaned_v3.json', 'r') as file:\n",
    "    lyric_data = json.load(file)"
   ]
  },
  {
   "cell_type": "markdown",
   "metadata": {},
   "source": [
    "\"title\": \"Joy to the World\",\n",
    "<br>\n",
    "\"artist\": \"Three Dog Night\",\n",
    "<br>\n",
    "\"num_words\": 259,\n",
    "<br>\n",
    "\"num_verses\": 10,\n",
    "<br>\n",
    "\"verses\": [],\n",
    "<br>\n",
    "\"genre\": \"Rock\",\n",
    "<br>\n",
    "\"length\": \"3:50\",\n",
    "<br>\n",
    "\"num_unique_words\": 75,\n",
    "<br>\n",
    "\"density\": 1.126086956521739,\n",
    "<br>\n",
    "\"similar_verses_score\": 16.465079365079365"
   ]
  },
  {
   "cell_type": "code",
   "execution_count": null,
   "metadata": {},
   "outputs": [],
   "source": [
    "import pandas as pd\n",
    "import math\n",
    "\n",
    "def length_in_seconds(length):\n",
    "    if length == '0':\n",
    "        return 180\n",
    "    else:\n",
    "        colon = length.find(':')\n",
    "        mins = length[0:colon]\n",
    "        seconds = length[colon+1:]\n",
    "        return (int(mins) * 60 + int(seconds))\n",
    "\n",
    "df = pd.DataFrame()\n",
    "lst = []\n",
    "for year in range(1960, 2019):\n",
    "    for song in lyric_data[str(year)]:\n",
    "        song['year'] = year\n",
    "        if not song.get('genre'):\n",
    "            song['genre'] = 'Other'\n",
    "        if song.get('length'):\n",
    "            song['length'] = length_in_seconds(song['length'])\n",
    "        \n",
    "        # calculate the complexity score here\n",
    "        complexity = (song['num_words'] + song['num_verses'] + song['length'] + song['num_unique_words'] + song['density']) - (song['similar_verses_score'] + 1)\n",
    "#         complexity = 10 * (song['num_verses'] + song['num_unique_words'] + song['density']) - (song['similar_verses_score'] + 1)\n",
    "        log_complexity = math.log(abs(complexity))\n",
    "        song['complexity'] = complexity\n",
    "        song['log_complexity'] = log_complexity\n",
    "        line = pd.DataFrame.from_records([song])\n",
    "        lst.append(line)\n",
    "\n",
    "# df = pd.DataFrame.from_dict([lyric_data])\n",
    "df = pd.concat(lst, ignore_index=True)\n",
    "\n",
    "df['length'] = df['length'].astype('float64')\n",
    "df['num_verses'] = df['num_verses'].astype('float64')\n",
    "df['num_words'] = df['num_words'].astype('float64')\n",
    "df['year'] = df['year'].astype('float64')\n",
    "df['num_unique_words'] = df['num_unique_words'].astype('float64')\n",
    "df['density'] = df['density'].astype('float64')\n",
    "df['similar_verses_score'] = df['similar_verses_score'].astype('float64')\n",
    "\n",
    "df['complexity'] = df['complexity'].astype('float64')\n",
    "df['log_complexity'] = df['log_complexity'].astype('float64')"
   ]
  },
  {
   "cell_type": "code",
   "execution_count": null,
   "metadata": {},
   "outputs": [],
   "source": [
    "import seaborn as sns\n",
    "import matplotlib.pyplot as plt"
   ]
  },
  {
   "cell_type": "code",
   "execution_count": null,
   "metadata": {},
   "outputs": [],
   "source": [
    "plt.figure(figsize=(15, 25))\n",
    "\n",
    "#plotting the complexity score\n",
    "sns.violinplot(data=df, x='complexity', y='year', scale='width', orient='h')"
   ]
  },
  {
   "cell_type": "code",
   "execution_count": null,
   "metadata": {},
   "outputs": [],
   "source": [
    "plt.figure(figsize=(15, 25))\n",
    "\n",
    "#plotting the complexity score\n",
    "sns.violinplot(data=df, x='log_complexity', y='year', scale='width', orient='h')"
   ]
  },
  {
   "cell_type": "code",
   "execution_count": null,
   "metadata": {
    "scrolled": false
   },
   "outputs": [],
   "source": [
    "plt.figure(figsize=(10, 10))\n",
    "\n",
    "avg_df = pd.DataFrame(columns=['year', 'complexity'])\n",
    "\n",
    "for year in range(1960, 2019):\n",
    "# for year in range(2005, 2015):\n",
    "    year_avg = 0\n",
    "    for song in lyric_data[str(year)]:\n",
    "        year_avg += song['complexity']\n",
    "    year_avg = year_avg / len(lyric_data[str(year)])\n",
    "    avg_df = avg_df.append({'year': year, 'complexity':year_avg}, ignore_index=True)\n",
    "\n",
    "#plotting the average complexity per year\n",
    "plt.plot(avg_df['year'], avg_df['complexity'], marker='o')\n",
    "plt.xlabel('Year')\n",
    "plt.ylabel('Average Complexity')"
   ]
  },
  {
   "cell_type": "code",
   "execution_count": null,
   "metadata": {},
   "outputs": [],
   "source": [
    "plt.figure(figsize=(10, 10))\n",
    "\n",
    "avg_df = pd.DataFrame(columns=['year', 'complexity'])\n",
    "\n",
    "for year in range(2005, 2015):\n",
    "    year_avg = 0\n",
    "    for song in lyric_data[str(year)]:\n",
    "        year_avg += song['complexity']\n",
    "    year_avg = year_avg / len(lyric_data[str(year)])\n",
    "    avg_df = avg_df.append({'year': year, 'complexity':year_avg}, ignore_index=True)\n",
    "\n",
    "#plotting the average complexity per year\n",
    "plt.plot(avg_df['year'], avg_df['complexity'], marker='o')\n",
    "plt.xlabel('Year')\n",
    "plt.ylabel('Average Complexity')\n",
    "plt.title('Average Song Complexity 2005-2014')"
   ]
  },
  {
   "cell_type": "code",
   "execution_count": null,
   "metadata": {},
   "outputs": [],
   "source": [
    "plt.figure(figsize=(15, 10))\n",
    "\n",
    "first_decade = df.loc[df['year'] < 1965]\n",
    "last_decade = df.loc[df['year'] > 2015]\n",
    "\n",
    "frames = [first_decade, last_decade]\n",
    "decades = pd.concat(frames)\n",
    "\n",
    "sns_plot = sns.violinplot(data=decades, x='num_unique_words', y='year', scale='width', orient='h')\n",
    "sns_plot.set_title(\"# Unique Words Distribution 1960's and 2010's\")\n",
    "\n",
    "# sns_plot.figure.savefig(\"first_last_decades.png\")"
   ]
  },
  {
   "cell_type": "code",
   "execution_count": null,
   "metadata": {
    "scrolled": false
   },
   "outputs": [],
   "source": [
    "plt.figure(figsize=(15, 10))\n",
    "\n",
    "first_decade = df.loc[df['year'] < 1965]\n",
    "last_decade = df.loc[df['year'] > 2015]\n",
    "\n",
    "frames = [first_decade, last_decade]\n",
    "decades = pd.concat(frames)\n",
    "\n",
    "sns_plot = sns.violinplot(data=decades, x='complexity', y='year', scale='width', orient='h')\n",
    "sns_plot.set_title(\"Complexity Distribution 1960's and 2010's\")\n",
    "\n",
    "# sns_plot.figure.savefig(\"first_last_decades.png\")"
   ]
  }
 ],
 "metadata": {
  "kernelspec": {
   "display_name": "Python 3",
   "language": "python",
   "name": "python3"
  },
  "language_info": {
   "codemirror_mode": {
    "name": "ipython",
    "version": 3
   },
   "file_extension": ".py",
   "mimetype": "text/x-python",
   "name": "python",
   "nbconvert_exporter": "python",
   "pygments_lexer": "ipython3",
   "version": "3.7.3"
  }
 },
 "nbformat": 4,
 "nbformat_minor": 2
}
